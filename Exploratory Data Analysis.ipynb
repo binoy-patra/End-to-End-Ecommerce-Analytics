{
 "cells": [
  {
   "cell_type": "markdown",
   "id": "18bf07e9-a43a-4695-a904-6a658c7e0825",
   "metadata": {},
   "source": [
    "### **Order Analysis**  \n",
    "1. What is the monthly trend of orders, revenue, and cancellations?  \n",
    "2. How does order volume vary by day of week/hour of day?  \n",
    "3. Which states have the highest order fulfillment delays?  \n",
    "4. What’s the distribution of time from purchase to delivery?  \n",
    "5. How many orders exceed the estimated delivery date?  \n",
    "6. What’s the average order value by month and customer state?  \n",
    "7. Which order statuses (e.g., \"shipped,\" \"canceled\") are most frequent?  \n",
    "8. What’s the cancellation rate by product category?  \n",
    "9. How does delivery time correlate with customer geography?  \n",
    "10. Are there seasonal spikes in orders (e.g., holidays)?  "
   ]
  },
  {
   "cell_type": "code",
   "execution_count": null,
   "id": "6861a5a3-e994-46fd-8eaf-1241e0903e87",
   "metadata": {},
   "outputs": [],
   "source": []
  },
  {
   "cell_type": "code",
   "execution_count": null,
   "id": "a2ef5c8a-5bbf-4cce-882e-d5432636bef9",
   "metadata": {},
   "outputs": [],
   "source": []
  },
  {
   "cell_type": "markdown",
   "id": "824dcdd3-a5e7-4cc4-810d-8134dc88692f",
   "metadata": {},
   "source": [
    "### **Product Analysis**  \n",
    "11. Which 10 products generate 50% of total revenue?  \n",
    "12. How do prices vary across product categories?  \n",
    "13. Which categories have the highest/lowest review scores?  \n",
    "14. What’s the relationship between product weight and freight cost?  \n",
    "15. Do expensive products have higher return rates?  \n",
    "16. Which categories show the fastest/slowest inventory turnover?  \n",
    "17. What’s the average time between repeat purchases for top products?  \n",
    "18. How do product dimensions (weight/volume) impact shipping time?  \n",
    "19. Which products are frequently purchased together?  \n",
    "20. Are there categories with declining sales over time?  "
   ]
  },
  {
   "cell_type": "code",
   "execution_count": null,
   "id": "decb1823-15b7-407e-b509-bf97fdfe2bfe",
   "metadata": {},
   "outputs": [],
   "source": []
  },
  {
   "cell_type": "code",
   "execution_count": null,
   "id": "c5ff1a74-d6df-4ecc-9935-94de6f13b923",
   "metadata": {},
   "outputs": [],
   "source": []
  },
  {
   "cell_type": "markdown",
   "id": "4657df61-b0fe-44ae-92ac-59336892cd9f",
   "metadata": {},
   "source": [
    "### **Payment Analysis**  \n",
    "21. What’s the distribution of payment methods (credit card, boleto, etc.)?  \n",
    "22. How does payment method vary by order value?  \n",
    "23. Do installment payments correlate with higher cancellation rates?  \n",
    "24. What’s the average number of installments per payment type?  \n",
    "25. Which payment methods have the highest fraud rates?  \n",
    "26. How does payment type affect customer retention?  \n",
    "27. Are credit card users more likely to be repeat buyers?  \n",
    "28. What’s the trend in payment method adoption over time?  \n",
    "29. Do high-value orders (>R$500) prefer specific payment methods?  \n",
    "30. How often do customers use multiple payment methods per order?  "
   ]
  },
  {
   "cell_type": "code",
   "execution_count": null,
   "id": "24fd0e4c-6d91-43ac-883b-2e50131fa975",
   "metadata": {},
   "outputs": [],
   "source": []
  },
  {
   "cell_type": "code",
   "execution_count": null,
   "id": "3faf730f-d985-4a14-bd72-4b2299172691",
   "metadata": {},
   "outputs": [],
   "source": []
  },
  {
   "cell_type": "code",
   "execution_count": null,
   "id": "59576857-240d-4330-a975-0bb02acbdcfe",
   "metadata": {},
   "outputs": [],
   "source": []
  },
  {
   "cell_type": "markdown",
   "id": "7113cead-5c82-4e3b-98b0-5dba9ac847b6",
   "metadata": {},
   "source": [
    "### **Customer Analysis**  \n",
    "31. What’s the distribution of customers by state/city?  \n",
    "32. Which cities have the highest average order value (AOV)?  \n",
    "33. What’s the customer lifetime value (CLV) by cohort?  \n",
    "34. How many customers make repeat purchases within 90 days?  \n",
    "35. What’s the average time between first and second purchase?  \n",
    "36. Which customer segments (RFM) generate the most revenue?  \n",
    "37. Do urban customers spend more than rural ones?  \n",
    "38. How does customer retention vary by acquisition month?  \n",
    "39. What’s the churn rate after the first purchase?  \n",
    "40. Are high-value customers concentrated in specific regions? "
   ]
  },
  {
   "cell_type": "code",
   "execution_count": null,
   "id": "13646eb2-6b73-4eb2-8f73-689f757a8a8b",
   "metadata": {},
   "outputs": [],
   "source": []
  },
  {
   "cell_type": "code",
   "execution_count": null,
   "id": "72ebe3b2-cd46-46fa-82a4-dced32c5ecfc",
   "metadata": {},
   "outputs": [],
   "source": []
  },
  {
   "cell_type": "markdown",
   "id": "23550539-67f2-4cd8-8f5f-8e1d6c0d09af",
   "metadata": {},
   "source": [
    "### **Review Analysis**  \n",
    "41. What’s the distribution of review scores (1-5 stars)?  \n",
    "42. How does delivery time affect review scores?  \n",
    "43. Which product categories have the most negative reviews?  \n",
    "44. Do longer review comments correlate with extreme scores?  \n",
    "45. What’s the average response time to negative reviews?  \n",
    "46. How do review scores trend over time for top sellers?  \n",
    "47. Are translated reviews (Portuguese → English) more negative?  \n",
    "48. Which words appear most in negative reviews?  \n",
    "49. Do products with photos in reviews get higher scores?  \n",
    "50. How many customers leave reviews after purchase? "
   ]
  },
  {
   "cell_type": "code",
   "execution_count": null,
   "id": "bc98d195-b25a-4aee-9708-545e2a1dd056",
   "metadata": {},
   "outputs": [],
   "source": []
  },
  {
   "cell_type": "code",
   "execution_count": null,
   "id": "c3b5a659-1dc2-4bf1-a4a0-49a7a25c4486",
   "metadata": {},
   "outputs": [],
   "source": []
  },
  {
   "cell_type": "code",
   "execution_count": null,
   "id": "25f65018-59ab-4aa4-8da4-6ebdc67e048b",
   "metadata": {},
   "outputs": [],
   "source": []
  },
  {
   "cell_type": "markdown",
   "id": "bf55cdd4-c064-48aa-83ba-71d1883c2271",
   "metadata": {},
   "source": [
    "### **Seller Analysis**  \n",
    "51. Which sellers have the highest order fulfillment speed?  \n",
    "52. How does seller location impact delivery time?  \n",
    "53. What’s the relationship between seller rating and cancellations?  \n",
    "54. Which sellers have the most consistent review scores?  \n",
    "55. Do top-performing sellers specialize in specific categories?  \n",
    "56. What’s the seller concentration (e.g., top 10% handle 80% of orders)?  \n",
    "57. How often do sellers miss shipping deadlines?  \n",
    "58. Which sellers show month-over-month growth in sales?  \n",
    "59. Are newer sellers gaining market share vs. established ones?  \n",
    "60. How do seller response times correlate with customer retention?  "
   ]
  },
  {
   "cell_type": "code",
   "execution_count": null,
   "id": "bef1b97f-7033-41b5-8b5f-bf042a1f8c9d",
   "metadata": {},
   "outputs": [],
   "source": []
  },
  {
   "cell_type": "code",
   "execution_count": null,
   "id": "4a94b2f6-2ddd-41f8-af02-f01cb8d4dae0",
   "metadata": {},
   "outputs": [],
   "source": []
  },
  {
   "cell_type": "code",
   "execution_count": null,
   "id": "d9533b44-408b-440f-8623-a81a62589722",
   "metadata": {},
   "outputs": [],
   "source": []
  },
  {
   "cell_type": "code",
   "execution_count": null,
   "id": "f30ed529-5314-4284-8a08-dab5289da459",
   "metadata": {},
   "outputs": [],
   "source": []
  },
  {
   "cell_type": "code",
   "execution_count": null,
   "id": "9060b7cf-474b-4a7b-904a-aa88d3458bf1",
   "metadata": {},
   "outputs": [],
   "source": []
  },
  {
   "cell_type": "markdown",
   "id": "c62ea28b-1500-4d71-8e71-8c95498f320b",
   "metadata": {},
   "source": [
    "### **Advanced Cross-Category**  \n",
    "61. **RFM Segmentation**: Which customers are \"Champions\" vs. \"At Risk\"?  \n",
    "62. **Market Basket**: What 3 products are most co-purchased?  \n",
    "63. **Cohort Analysis**: How does 2020 customer retention compare to 2021?  \n",
    "64. **Time Series**: Can we forecast next quarter’s revenue using SARIMA?  \n",
    "65. **Profitability**: Which categories have the worst shipping cost ratios?  \n",
    "66. **CLTV Prediction**: Which new customers will have high lifetime value?  \n",
    "67. **Churn Drivers**: Why do 70% of customers never return?  \n",
    "68. **Geospatial**: Are there underserved regions with high demand?  \n",
    "69. **NLP**: Can review sentiment predict future product returns?  \n",
    "70. **A/B Test (Hypothetical)**: Would free shipping boost repeat purchases?  "
   ]
  },
  {
   "cell_type": "code",
   "execution_count": null,
   "id": "e1d70857-8b7f-4b94-a040-cdc2d05d38b7",
   "metadata": {},
   "outputs": [],
   "source": []
  },
  {
   "cell_type": "code",
   "execution_count": null,
   "id": "0747ef57-6ca5-4a00-98d2-747aceb60b49",
   "metadata": {},
   "outputs": [],
   "source": []
  },
  {
   "cell_type": "code",
   "execution_count": null,
   "id": "dd43fe0a-939f-42e1-9a8c-b939bbc068f3",
   "metadata": {},
   "outputs": [],
   "source": []
  }
 ],
 "metadata": {
  "kernelspec": {
   "display_name": "Python 3 (ipykernel)",
   "language": "python",
   "name": "python3"
  },
  "language_info": {
   "codemirror_mode": {
    "name": "ipython",
    "version": 3
   },
   "file_extension": ".py",
   "mimetype": "text/x-python",
   "name": "python",
   "nbconvert_exporter": "python",
   "pygments_lexer": "ipython3",
   "version": "3.12.7"
  }
 },
 "nbformat": 4,
 "nbformat_minor": 5
}
